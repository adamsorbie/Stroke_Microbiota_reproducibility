{
 "cells": [
  {
   "cell_type": "code",
   "execution_count": 2,
   "id": "5713c550-f047-4967-b8ef-4da4d4fded40",
   "metadata": {},
   "outputs": [],
   "source": [
    "import pandas as pd\n",
    "import seaborn as sns\n",
    "import zipfile\n",
    "from skbio.stats import distance\n",
    "from scipy.stats import mannwhitneyu\n",
    "from sklearn.manifold import MDS\n",
    "import matplotlib.pyplot as plt\n",
    "%matplotlib inline"
   ]
  },
  {
   "cell_type": "code",
   "execution_count": 3,
   "id": "f6760d06-7de1-4cd0-a4a2-eb46b635f5ed",
   "metadata": {},
   "outputs": [],
   "source": [
    "data_dir = \"/home/adamsorbie/data_win/16S/iScience-review/data/q2_subset/\""
   ]
  },
  {
   "cell_type": "code",
   "execution_count": 4,
   "id": "fd12d2b6-33c9-4bd1-97f5-65203c898dc3",
   "metadata": {},
   "outputs": [],
   "source": [
    "## FUNCTIONS\n",
    "\n",
    "def wilcox_test(df, metric, group_col, groups):\n",
    "    x = df[df[group_col] == groups[0]][metric]\n",
    "    y = df[df[group_col] == groups[1]][metric]\n",
    "    return(mannwhitneyu(x, y)) "
   ]
  },
  {
   "cell_type": "code",
   "execution_count": 10,
   "id": "f60b17e2-1d05-4492-afff-1f15486c0a5e",
   "metadata": {},
   "outputs": [
    {
     "data": {
      "text/plain": [
       "MannwhitneyuResult(statistic=3.0, pvalue=0.5)"
      ]
     },
     "execution_count": 10,
     "metadata": {},
     "output_type": "execute_result"
    }
   ],
   "source": []
  },
  {
   "cell_type": "code",
   "execution_count": 6,
   "id": "7bfc621c-6bda-4d7a-bcb3-884de0d4c166",
   "metadata": {},
   "outputs": [],
   "source": [
    "r_zf = zipfile.ZipFile(data_dir + \"core-metrics-phylo-results/observed_features_vector.qza\")\n",
    "s_zf = zipfile.ZipFile(data_dir + \"core-metrics-phylo-results/shannon_vector.qza\")\n",
    "fpd_zf = zipfile.ZipFile(data_dir + \"core-metrics-phylo-results/faith_pd_vector.qza\")\n",
    "gu_zf = zipfile.ZipFile(data_dir + \"core-metrics-phylo-results/GUnifrac_distance_matrix.qza\")"
   ]
  },
  {
   "cell_type": "code",
   "execution_count": 7,
   "id": "bc8c8c99-06d3-4b1f-b662-3c1eb08f17e5",
   "metadata": {},
   "outputs": [],
   "source": [
    "# zipfile names are long and annoying to type, maybe write function to get this automatically ? \n"
   ]
  },
  {
   "cell_type": "code",
   "execution_count": 8,
   "id": "25688a96-dc9c-41b5-aea9-c43c96500c0e",
   "metadata": {},
   "outputs": [],
   "source": [
    "richness = pd.read_csv(r_zf.open('db800231-1f56-463a-8974-f6269ac90b5c/data/alpha-diversity.tsv'), sep=\"\\t\", index_col=0)\n",
    "shannon = pd.read_csv(s_zf.open('c81a8961-ae3c-4ce6-819c-cca41d034401/data/alpha-diversity.tsv'), sep=\"\\t\", index_col=0)\n",
    "faiths = pd.read_csv(fpd_zf.open('9fbfa5d9-e57b-42e2-a43c-652777f7990f/data/alpha-diversity.tsv'), sep=\"\\t\", index_col=0)\n",
    "gunifrac = pd.read_csv(gu_zf.open('a7cbd80b-4c05-41f7-9de2-66226f0f35aa/data/distance-matrix.tsv'), sep=\"\\t\", index_col=0)\n",
    "metadata = pd.read_csv(data_dir + \"metadata_subset.tsv\", sep=\"\\t\", index_col=0)"
   ]
  },
  {
   "cell_type": "code",
   "execution_count": 9,
   "id": "498bfc2e-44ab-4725-a298-28c7b4b2a5b9",
   "metadata": {},
   "outputs": [],
   "source": [
    "alphadiv = pd.concat([richness, shannon, faiths, metadata], axis=1)\n"
   ]
  },
  {
   "cell_type": "code",
   "execution_count": 12,
   "id": "580dd2f7-d817-44c4-81b5-ca4a54a0987a",
   "metadata": {},
   "outputs": [
    {
     "data": {
      "text/plain": [
       "MannwhitneyuResult(statistic=3.0, pvalue=0.5)"
      ]
     },
     "execution_count": 12,
     "metadata": {},
     "output_type": "execute_result"
    }
   ],
   "source": [
    "wilcox_test(alphadiv, \"observed_features\", \"Group\", [\"Sham\", \"Stroke\"])"
   ]
  },
  {
   "cell_type": "code",
   "execution_count": null,
   "id": "a86ee7e2-b9ce-4627-bc04-f1276196b7cf",
   "metadata": {},
   "outputs": [],
   "source": []
  },
  {
   "cell_type": "code",
   "execution_count": 18,
   "id": "964d197c-dc49-49c9-a3a4-b034d80849de",
   "metadata": {},
   "outputs": [],
   "source": [
    "comp = MDS(n_components=2, dissimilarity=\"precomputed\")\n",
    "nmds = pd.DataFrame(comp.fit_transform(gunifrac), columns=[\"NMDS1\", \"NMDS2\"], index=gunifrac.index)\n",
    "nmds_meta = pd.concat([nmds, metadata], axis=1)"
   ]
  },
  {
   "cell_type": "code",
   "execution_count": 32,
   "id": "5409600f-89d4-455f-9058-a10698a190f0",
   "metadata": {},
   "outputs": [
    {
     "data": {
      "image/png": "[encoded data removed]",
      "text/plain": [
       "<Figure size 432x288 with 1 Axes>"
      ]
     },
     "metadata": {},
     "output_type": "display_data"
    }
   ],
   "source": [
    "sns.set_style(\"white\")\n",
    "cols = [\"#1e90ff\", \"#ff3030\"]\n",
    "p = sns.scatterplot(data=nmds_meta, x=\"NMDS1\", y=\"NMDS2\",hue=\"Group\", palette=cols, s=100)\n",
    "p.set_xlabel(\"NMDS1\", fontsize = 16)\n",
    "p.set_ylabel(\"NMDS2\", fontsize = 16)\n",
    "\n",
    "plt.show()"
   ]
  },
  {
   "cell_type": "code",
   "execution_count": null,
   "id": "efbce3e3-13fa-439e-8451-d5921c22b5e7",
   "metadata": {},
   "outputs": [],
   "source": []
  }
 ],
 "metadata": {
  "kernelspec": {
   "display_name": "Python 3 (ipykernel)",
   "language": "python",
   "name": "python3"
  },
  "language_info": {
   "codemirror_mode": {
    "name": "ipython",
    "version": 3
   },
   "file_extension": ".py",
   "mimetype": "text/x-python",
   "name": "python",
   "nbconvert_exporter": "python",
   "pygments_lexer": "ipython3",
   "version": "3.8.12"
  }
 },
 "nbformat": 4,
 "nbformat_minor": 5
}
